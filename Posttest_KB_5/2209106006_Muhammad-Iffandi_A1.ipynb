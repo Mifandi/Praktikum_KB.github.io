{
 "cells": [
  {
   "cell_type": "markdown",
   "id": "5975d5d4-7e83-4f63-9c93-d31a2c9fa93e",
   "metadata": {},
   "source": [
    "# Nama : Muhammad Iffandi\n",
    "# Nim : 2209106006\n",
    "# Praktikum : Kecerdasan Buatan A1"
   ]
  },
  {
   "cell_type": "markdown",
   "id": "e8c136ff-cf57-4fe3-a0ef-057323e19e1e",
   "metadata": {},
   "source": [
    "# A. Supervised Learning"
   ]
  },
  {
   "cell_type": "code",
   "execution_count": 1,
   "id": "d3466dda-24c7-4b2e-8f57-ba975a8ab8f7",
   "metadata": {},
   "outputs": [],
   "source": [
    "import pandas as pd\n",
    "import numpy as np\n",
    "from sklearn.model_selection import train_test_split\n",
    "from sklearn.preprocessing import MinMaxScaler\n",
    "from sklearn.linear_model import LinearRegression\n",
    "from sklearn.metrics import mean_absolute_error, mean_squared_error, mean_squared_error, r2_score\n",
    "import matplotlib.pyplot as plt"
   ]
  },
  {
   "cell_type": "markdown",
   "id": "16454c8f-1d7a-4296-bc0c-4f66de8d998d",
   "metadata": {},
   "source": [
    "## Import Library Yang Dibutuhkan Untuk Melakukan Regresi Liniear"
   ]
  },
  {
   "cell_type": "code",
   "execution_count": 2,
   "id": "3def6acc-2545-43da-980c-3e8954f88e6d",
   "metadata": {},
   "outputs": [
    {
     "data": {
      "text/html": [
       "<div>\n",
       "<style scoped>\n",
       "    .dataframe tbody tr th:only-of-type {\n",
       "        vertical-align: middle;\n",
       "    }\n",
       "\n",
       "    .dataframe tbody tr th {\n",
       "        vertical-align: top;\n",
       "    }\n",
       "\n",
       "    .dataframe thead th {\n",
       "        text-align: right;\n",
       "    }\n",
       "</style>\n",
       "<table border=\"1\" class=\"dataframe\">\n",
       "  <thead>\n",
       "    <tr style=\"text-align: right;\">\n",
       "      <th></th>\n",
       "      <th>Unnamed: 0</th>\n",
       "      <th>slug</th>\n",
       "      <th>playtime</th>\n",
       "      <th>released</th>\n",
       "      <th>rating</th>\n",
       "      <th>rating_top</th>\n",
       "      <th>ratings_count</th>\n",
       "      <th>reviews_text_count</th>\n",
       "      <th>added</th>\n",
       "      <th>metacritic</th>\n",
       "      <th>...</th>\n",
       "      <th>updated</th>\n",
       "      <th>tags</th>\n",
       "      <th>reviews_count</th>\n",
       "      <th>genres</th>\n",
       "      <th>yet</th>\n",
       "      <th>owned</th>\n",
       "      <th>beaten</th>\n",
       "      <th>toplay</th>\n",
       "      <th>dropped</th>\n",
       "      <th>playing</th>\n",
       "    </tr>\n",
       "  </thead>\n",
       "  <tbody>\n",
       "    <tr>\n",
       "      <th>0</th>\n",
       "      <td>0</td>\n",
       "      <td>terraria</td>\n",
       "      <td>12</td>\n",
       "      <td>5/16/2011</td>\n",
       "      <td>4.41</td>\n",
       "      <td>4</td>\n",
       "      <td>1384</td>\n",
       "      <td>6</td>\n",
       "      <td>7304</td>\n",
       "      <td>81.0</td>\n",
       "      <td>...</td>\n",
       "      <td>2020-12-07T19:51:06</td>\n",
       "      <td>Singleplayer, Steam Achievements</td>\n",
       "      <td>1395</td>\n",
       "      <td>Platformer, Indie</td>\n",
       "      <td>237</td>\n",
       "      <td>5518</td>\n",
       "      <td>603</td>\n",
       "      <td>94</td>\n",
       "      <td>729</td>\n",
       "      <td>123</td>\n",
       "    </tr>\n",
       "    <tr>\n",
       "      <th>1</th>\n",
       "      <td>1</td>\n",
       "      <td>lego-lord-of-the-rings</td>\n",
       "      <td>3</td>\n",
       "      <td>9/28/2012</td>\n",
       "      <td>3.40</td>\n",
       "      <td>4</td>\n",
       "      <td>409</td>\n",
       "      <td>1</td>\n",
       "      <td>3640</td>\n",
       "      <td>80.0</td>\n",
       "      <td>...</td>\n",
       "      <td>2019-10-23T14:56:48</td>\n",
       "      <td>Singleplayer, Для одного игрока</td>\n",
       "      <td>410</td>\n",
       "      <td>Casual, Platformer</td>\n",
       "      <td>265</td>\n",
       "      <td>3000</td>\n",
       "      <td>205</td>\n",
       "      <td>29</td>\n",
       "      <td>115</td>\n",
       "      <td>26</td>\n",
       "    </tr>\n",
       "    <tr>\n",
       "      <th>2</th>\n",
       "      <td>2</td>\n",
       "      <td>minecraft</td>\n",
       "      <td>26</td>\n",
       "      <td>5/10/2009</td>\n",
       "      <td>4.41</td>\n",
       "      <td>5</td>\n",
       "      <td>1339</td>\n",
       "      <td>8</td>\n",
       "      <td>3640</td>\n",
       "      <td>83.0</td>\n",
       "      <td>...</td>\n",
       "      <td>2020-09-08T16:50:31</td>\n",
       "      <td>Multiplayer, Sandbox</td>\n",
       "      <td>1359</td>\n",
       "      <td>Action, Arcade</td>\n",
       "      <td>38</td>\n",
       "      <td>2049</td>\n",
       "      <td>689</td>\n",
       "      <td>48</td>\n",
       "      <td>434</td>\n",
       "      <td>382</td>\n",
       "    </tr>\n",
       "    <tr>\n",
       "      <th>3</th>\n",
       "      <td>3</td>\n",
       "      <td>the-binding-of-isaac-rebirth</td>\n",
       "      <td>35</td>\n",
       "      <td>11/4/2014</td>\n",
       "      <td>4.31</td>\n",
       "      <td>5</td>\n",
       "      <td>726</td>\n",
       "      <td>5</td>\n",
       "      <td>3297</td>\n",
       "      <td>86.0</td>\n",
       "      <td>...</td>\n",
       "      <td>2019-12-29T20:04:49</td>\n",
       "      <td>Singleplayer, Для одного игрока</td>\n",
       "      <td>732</td>\n",
       "      <td>Action, RPG</td>\n",
       "      <td>74</td>\n",
       "      <td>2464</td>\n",
       "      <td>380</td>\n",
       "      <td>63</td>\n",
       "      <td>225</td>\n",
       "      <td>91</td>\n",
       "    </tr>\n",
       "    <tr>\n",
       "      <th>4</th>\n",
       "      <td>4</td>\n",
       "      <td>lego-the-hobbit</td>\n",
       "      <td>2</td>\n",
       "      <td>4/8/2014</td>\n",
       "      <td>3.40</td>\n",
       "      <td>4</td>\n",
       "      <td>289</td>\n",
       "      <td>0</td>\n",
       "      <td>3194</td>\n",
       "      <td>70.0</td>\n",
       "      <td>...</td>\n",
       "      <td>2019-10-23T14:56:45</td>\n",
       "      <td>Singleplayer, Для одного игрока</td>\n",
       "      <td>289</td>\n",
       "      <td>Family, Adventure</td>\n",
       "      <td>285</td>\n",
       "      <td>2665</td>\n",
       "      <td>132</td>\n",
       "      <td>24</td>\n",
       "      <td>75</td>\n",
       "      <td>13</td>\n",
       "    </tr>\n",
       "  </tbody>\n",
       "</table>\n",
       "<p>5 rows × 21 columns</p>\n",
       "</div>"
      ],
      "text/plain": [
       "   Unnamed: 0                          slug  playtime   released  rating  \\\n",
       "0           0                      terraria        12  5/16/2011    4.41   \n",
       "1           1        lego-lord-of-the-rings         3  9/28/2012    3.40   \n",
       "2           2                     minecraft        26  5/10/2009    4.41   \n",
       "3           3  the-binding-of-isaac-rebirth        35  11/4/2014    4.31   \n",
       "4           4               lego-the-hobbit         2   4/8/2014    3.40   \n",
       "\n",
       "   rating_top  ratings_count  reviews_text_count  added  metacritic  ...  \\\n",
       "0           4           1384                   6   7304        81.0  ...   \n",
       "1           4            409                   1   3640        80.0  ...   \n",
       "2           5           1339                   8   3640        83.0  ...   \n",
       "3           5            726                   5   3297        86.0  ...   \n",
       "4           4            289                   0   3194        70.0  ...   \n",
       "\n",
       "               updated                              tags reviews_count  \\\n",
       "0  2020-12-07T19:51:06  Singleplayer, Steam Achievements          1395   \n",
       "1  2019-10-23T14:56:48   Singleplayer, Для одного игрока           410   \n",
       "2  2020-09-08T16:50:31              Multiplayer, Sandbox          1359   \n",
       "3  2019-12-29T20:04:49   Singleplayer, Для одного игрока           732   \n",
       "4  2019-10-23T14:56:45   Singleplayer, Для одного игрока           289   \n",
       "\n",
       "               genres  yet  owned  beaten  toplay  dropped  playing  \n",
       "0   Platformer, Indie  237   5518     603      94      729      123  \n",
       "1  Casual, Platformer  265   3000     205      29      115       26  \n",
       "2      Action, Arcade   38   2049     689      48      434      382  \n",
       "3         Action, RPG   74   2464     380      63      225       91  \n",
       "4   Family, Adventure  285   2665     132      24       75       13  \n",
       "\n",
       "[5 rows x 21 columns]"
      ]
     },
     "execution_count": 2,
     "metadata": {},
     "output_type": "execute_result"
    }
   ],
   "source": [
    "df = pd.read_csv(\"nintendo3ds.csv\")\n",
    "df.head()"
   ]
  },
  {
   "cell_type": "markdown",
   "id": "4a4f343d-554e-4f31-aedc-3ec367926a2d",
   "metadata": {},
   "source": [
    "## Untuk membaca dataset dan menampilkan 5 data pertama dalam dataset"
   ]
  },
  {
   "cell_type": "code",
   "execution_count": 3,
   "id": "427f0e91-0e45-45c7-8511-1540e05d8c83",
   "metadata": {},
   "outputs": [],
   "source": [
    "X = df[['rating_top', 'playtime']]\n",
    "y = df['rating']\n",
    "\n",
    "X_train, X_test, y_train, y_test = train_test_split(X, y, test_size=0.2, random_state=42)"
   ]
  },
  {
   "cell_type": "markdown",
   "id": "3d09bedd-4ff9-42e2-8081-9229afddf483",
   "metadata": {},
   "source": [
    "### Melakukan split data dengan rasio 80:20"
   ]
  },
  {
   "cell_type": "markdown",
   "id": "92a636f5-1b12-4dc5-9dab-9f23859dd927",
   "metadata": {},
   "source": [
    "# A1. Linear Regression"
   ]
  },
  {
   "cell_type": "code",
   "execution_count": 4,
   "id": "54242950-80ae-4470-88fa-da0fef490c93",
   "metadata": {},
   "outputs": [
    {
     "data": {
      "text/html": [
       "<style>#sk-container-id-1 {color: black;}#sk-container-id-1 pre{padding: 0;}#sk-container-id-1 div.sk-toggleable {background-color: white;}#sk-container-id-1 label.sk-toggleable__label {cursor: pointer;display: block;width: 100%;margin-bottom: 0;padding: 0.3em;box-sizing: border-box;text-align: center;}#sk-container-id-1 label.sk-toggleable__label-arrow:before {content: \"▸\";float: left;margin-right: 0.25em;color: #696969;}#sk-container-id-1 label.sk-toggleable__label-arrow:hover:before {color: black;}#sk-container-id-1 div.sk-estimator:hover label.sk-toggleable__label-arrow:before {color: black;}#sk-container-id-1 div.sk-toggleable__content {max-height: 0;max-width: 0;overflow: hidden;text-align: left;background-color: #f0f8ff;}#sk-container-id-1 div.sk-toggleable__content pre {margin: 0.2em;color: black;border-radius: 0.25em;background-color: #f0f8ff;}#sk-container-id-1 input.sk-toggleable__control:checked~div.sk-toggleable__content {max-height: 200px;max-width: 100%;overflow: auto;}#sk-container-id-1 input.sk-toggleable__control:checked~label.sk-toggleable__label-arrow:before {content: \"▾\";}#sk-container-id-1 div.sk-estimator input.sk-toggleable__control:checked~label.sk-toggleable__label {background-color: #d4ebff;}#sk-container-id-1 div.sk-label input.sk-toggleable__control:checked~label.sk-toggleable__label {background-color: #d4ebff;}#sk-container-id-1 input.sk-hidden--visually {border: 0;clip: rect(1px 1px 1px 1px);clip: rect(1px, 1px, 1px, 1px);height: 1px;margin: -1px;overflow: hidden;padding: 0;position: absolute;width: 1px;}#sk-container-id-1 div.sk-estimator {font-family: monospace;background-color: #f0f8ff;border: 1px dotted black;border-radius: 0.25em;box-sizing: border-box;margin-bottom: 0.5em;}#sk-container-id-1 div.sk-estimator:hover {background-color: #d4ebff;}#sk-container-id-1 div.sk-parallel-item::after {content: \"\";width: 100%;border-bottom: 1px solid gray;flex-grow: 1;}#sk-container-id-1 div.sk-label:hover label.sk-toggleable__label {background-color: #d4ebff;}#sk-container-id-1 div.sk-serial::before {content: \"\";position: absolute;border-left: 1px solid gray;box-sizing: border-box;top: 0;bottom: 0;left: 50%;z-index: 0;}#sk-container-id-1 div.sk-serial {display: flex;flex-direction: column;align-items: center;background-color: white;padding-right: 0.2em;padding-left: 0.2em;position: relative;}#sk-container-id-1 div.sk-item {position: relative;z-index: 1;}#sk-container-id-1 div.sk-parallel {display: flex;align-items: stretch;justify-content: center;background-color: white;position: relative;}#sk-container-id-1 div.sk-item::before, #sk-container-id-1 div.sk-parallel-item::before {content: \"\";position: absolute;border-left: 1px solid gray;box-sizing: border-box;top: 0;bottom: 0;left: 50%;z-index: -1;}#sk-container-id-1 div.sk-parallel-item {display: flex;flex-direction: column;z-index: 1;position: relative;background-color: white;}#sk-container-id-1 div.sk-parallel-item:first-child::after {align-self: flex-end;width: 50%;}#sk-container-id-1 div.sk-parallel-item:last-child::after {align-self: flex-start;width: 50%;}#sk-container-id-1 div.sk-parallel-item:only-child::after {width: 0;}#sk-container-id-1 div.sk-dashed-wrapped {border: 1px dashed gray;margin: 0 0.4em 0.5em 0.4em;box-sizing: border-box;padding-bottom: 0.4em;background-color: white;}#sk-container-id-1 div.sk-label label {font-family: monospace;font-weight: bold;display: inline-block;line-height: 1.2em;}#sk-container-id-1 div.sk-label-container {text-align: center;}#sk-container-id-1 div.sk-container {/* jupyter's `normalize.less` sets `[hidden] { display: none; }` but bootstrap.min.css set `[hidden] { display: none !important; }` so we also need the `!important` here to be able to override the default hidden behavior on the sphinx rendered scikit-learn.org. See: https://github.com/scikit-learn/scikit-learn/issues/21755 */display: inline-block !important;position: relative;}#sk-container-id-1 div.sk-text-repr-fallback {display: none;}</style><div id=\"sk-container-id-1\" class=\"sk-top-container\"><div class=\"sk-text-repr-fallback\"><pre>LinearRegression()</pre><b>In a Jupyter environment, please rerun this cell to show the HTML representation or trust the notebook. <br />On GitHub, the HTML representation is unable to render, please try loading this page with nbviewer.org.</b></div><div class=\"sk-container\" hidden><div class=\"sk-item\"><div class=\"sk-estimator sk-toggleable\"><input class=\"sk-toggleable__control sk-hidden--visually\" id=\"sk-estimator-id-1\" type=\"checkbox\" checked><label for=\"sk-estimator-id-1\" class=\"sk-toggleable__label sk-toggleable__label-arrow\">LinearRegression</label><div class=\"sk-toggleable__content\"><pre>LinearRegression()</pre></div></div></div></div></div>"
      ],
      "text/plain": [
       "LinearRegression()"
      ]
     },
     "execution_count": 4,
     "metadata": {},
     "output_type": "execute_result"
    }
   ],
   "source": [
    "lr = LinearRegression()\n",
    "lr.fit(X_train, y_train)"
   ]
  },
  {
   "cell_type": "markdown",
   "id": "2579ae8d-1556-4b47-b24c-87a91d9c8b3c",
   "metadata": {},
   "source": [
    "### 1. lr = LinearRegression(): Ini adalah langkah pertama dalam mempersiapkan model regresi linear. membuat objek model regresi linear dengan variabel lr.\n",
    "### 2. lr.fit(X_train, y_train): Setelah objek model lr dibuat, menggunakan metode .fit(X_train, y_train) untuk melatih model pada data pelatihan. Di sini, X_train adalah matriks fitur (fitur numerik dari data pelatihan) dan y_train adalah vektor target (nilai yang ingin diprediksi)."
   ]
  },
  {
   "cell_type": "code",
   "execution_count": 5,
   "id": "52c235c0-9b24-4348-bb98-6fb8356a1885",
   "metadata": {},
   "outputs": [],
   "source": [
    "y_pred = lr.predict(X_test)"
   ]
  },
  {
   "cell_type": "markdown",
   "id": "40141d66-3344-4722-8b8b-40f22a7b3faa",
   "metadata": {},
   "source": [
    "### Digunakan untuk melakukan prediksi pada data pengujian (X_test) dengan model regresi linear yang telah dilatih sebelumnya (lr)"
   ]
  },
  {
   "cell_type": "markdown",
   "id": "527fe6d1-faa5-451d-9af4-98d919533cb2",
   "metadata": {},
   "source": [
    "# A2. Hasil Prediksi"
   ]
  },
  {
   "cell_type": "code",
   "execution_count": 6,
   "id": "a931684b-ab6b-4393-94ef-0cc59523e7b0",
   "metadata": {},
   "outputs": [
    {
     "name": "stdout",
     "output_type": "stream",
     "text": [
      "MAE: 0.12175425366346462\n",
      "MSE: 0.11336077923464066\n",
      "RMSE: 0.33669092538207895\n",
      "R2-Score: 0.9567942731968149\n"
     ]
    }
   ],
   "source": [
    "mae = mean_absolute_error(y_test, y_pred)\n",
    "mse = mean_squared_error(y_test, y_pred)\n",
    "rmse = np.sqrt(mse)\n",
    "r2 = r2_score(y_test, y_pred)\n",
    "\n",
    "print(\"MAE:\", mae)\n",
    "print(\"MSE:\", mse)\n",
    "print(\"RMSE:\", rmse)\n",
    "print(\"R2-Score:\", r2)"
   ]
  },
  {
   "cell_type": "markdown",
   "id": "c090d09a-b6d7-4fe3-ac86-2929c6e12f3c",
   "metadata": {},
   "source": [
    "### Kesimpulannya adalah bahwa model regresi linear yang saya baut cukup baik dalam memprediksi nilai target pada data pengujian. Model ini mampu menjelaskan sebagian besar variasi dalam data (R2-Score yang tinggi), dan kesalahan prediksi yang dihasilkan (MAE, MSE, dan RMSE yang rendah) cukup kecil. "
   ]
  },
  {
   "cell_type": "markdown",
   "id": "00b51555-940a-4a74-bf6c-4e9c70703198",
   "metadata": {},
   "source": [
    "# A3. Scatter Plot perbandingan antara target asli dan prediksi"
   ]
  },
  {
   "cell_type": "code",
   "execution_count": 7,
   "id": "280327be-acfc-4a21-9724-c4e060df9a08",
   "metadata": {},
   "outputs": [
    {
     "data": {
      "image/png": "[encoded data removed]",
      "text/plain": [
       "<Figure size 1000x600 with 1 Axes>"
      ]
     },
     "metadata": {},
     "output_type": "display_data"
    }
   ],
   "source": [
    "\n",
    "plt.figure(figsize=(10, 6))\n",
    "plt.scatter(y_test, y_pred, color='blue', label='Prediksi', marker='o')  # Warna biru untuk prediksi\n",
    "plt.scatter(y_test, y_test, color='red', label='Target Asli', marker='o')  # Warna merah untuk target asli\n",
    "plt.xlabel('Target Asli')\n",
    "plt.ylabel('Prediksi')\n",
    "plt.title('Plot Hasil Prediksi vs. Target Asli')\n",
    "plt.legend()\n",
    "plt.show()\n"
   ]
  },
  {
   "cell_type": "markdown",
   "id": "c89146b3-06fe-483c-b341-db55691735bc",
   "metadata": {},
   "source": [
    "# B. Unsupervised Learning"
   ]
  },
  {
   "cell_type": "code",
   "execution_count": 8,
   "id": "6aea9c5b-bc48-4659-8b82-4fa6598f7410",
   "metadata": {},
   "outputs": [],
   "source": [
    "from sklearn.cluster import KMeans\n",
    "from sklearn.metrics import silhouette_score, calinski_harabasz_score, davies_bouldin_score\n",
    "from sklearn.metrics import adjusted_rand_score, normalized_mutual_info_score, homogeneity_score, completeness_score"
   ]
  },
  {
   "cell_type": "markdown",
   "id": "2386d55b-3f8c-4706-ba6c-e3dda8c01c35",
   "metadata": {},
   "source": [
    "### Import library yang akan digunakan untuk melakukan K-Means Clustering"
   ]
  },
  {
   "cell_type": "code",
   "execution_count": 9,
   "id": "8eb6ec64-ada4-47f0-9275-4dcb6ed7c611",
   "metadata": {},
   "outputs": [
    {
     "data": {
      "text/html": [
       "<style>#sk-container-id-2 {color: black;}#sk-container-id-2 pre{padding: 0;}#sk-container-id-2 div.sk-toggleable {background-color: white;}#sk-container-id-2 label.sk-toggleable__label {cursor: pointer;display: block;width: 100%;margin-bottom: 0;padding: 0.3em;box-sizing: border-box;text-align: center;}#sk-container-id-2 label.sk-toggleable__label-arrow:before {content: \"▸\";float: left;margin-right: 0.25em;color: #696969;}#sk-container-id-2 label.sk-toggleable__label-arrow:hover:before {color: black;}#sk-container-id-2 div.sk-estimator:hover label.sk-toggleable__label-arrow:before {color: black;}#sk-container-id-2 div.sk-toggleable__content {max-height: 0;max-width: 0;overflow: hidden;text-align: left;background-color: #f0f8ff;}#sk-container-id-2 div.sk-toggleable__content pre {margin: 0.2em;color: black;border-radius: 0.25em;background-color: #f0f8ff;}#sk-container-id-2 input.sk-toggleable__control:checked~div.sk-toggleable__content {max-height: 200px;max-width: 100%;overflow: auto;}#sk-container-id-2 input.sk-toggleable__control:checked~label.sk-toggleable__label-arrow:before {content: \"▾\";}#sk-container-id-2 div.sk-estimator input.sk-toggleable__control:checked~label.sk-toggleable__label {background-color: #d4ebff;}#sk-container-id-2 div.sk-label input.sk-toggleable__control:checked~label.sk-toggleable__label {background-color: #d4ebff;}#sk-container-id-2 input.sk-hidden--visually {border: 0;clip: rect(1px 1px 1px 1px);clip: rect(1px, 1px, 1px, 1px);height: 1px;margin: -1px;overflow: hidden;padding: 0;position: absolute;width: 1px;}#sk-container-id-2 div.sk-estimator {font-family: monospace;background-color: #f0f8ff;border: 1px dotted black;border-radius: 0.25em;box-sizing: border-box;margin-bottom: 0.5em;}#sk-container-id-2 div.sk-estimator:hover {background-color: #d4ebff;}#sk-container-id-2 div.sk-parallel-item::after {content: \"\";width: 100%;border-bottom: 1px solid gray;flex-grow: 1;}#sk-container-id-2 div.sk-label:hover label.sk-toggleable__label {background-color: #d4ebff;}#sk-container-id-2 div.sk-serial::before {content: \"\";position: absolute;border-left: 1px solid gray;box-sizing: border-box;top: 0;bottom: 0;left: 50%;z-index: 0;}#sk-container-id-2 div.sk-serial {display: flex;flex-direction: column;align-items: center;background-color: white;padding-right: 0.2em;padding-left: 0.2em;position: relative;}#sk-container-id-2 div.sk-item {position: relative;z-index: 1;}#sk-container-id-2 div.sk-parallel {display: flex;align-items: stretch;justify-content: center;background-color: white;position: relative;}#sk-container-id-2 div.sk-item::before, #sk-container-id-2 div.sk-parallel-item::before {content: \"\";position: absolute;border-left: 1px solid gray;box-sizing: border-box;top: 0;bottom: 0;left: 50%;z-index: -1;}#sk-container-id-2 div.sk-parallel-item {display: flex;flex-direction: column;z-index: 1;position: relative;background-color: white;}#sk-container-id-2 div.sk-parallel-item:first-child::after {align-self: flex-end;width: 50%;}#sk-container-id-2 div.sk-parallel-item:last-child::after {align-self: flex-start;width: 50%;}#sk-container-id-2 div.sk-parallel-item:only-child::after {width: 0;}#sk-container-id-2 div.sk-dashed-wrapped {border: 1px dashed gray;margin: 0 0.4em 0.5em 0.4em;box-sizing: border-box;padding-bottom: 0.4em;background-color: white;}#sk-container-id-2 div.sk-label label {font-family: monospace;font-weight: bold;display: inline-block;line-height: 1.2em;}#sk-container-id-2 div.sk-label-container {text-align: center;}#sk-container-id-2 div.sk-container {/* jupyter's `normalize.less` sets `[hidden] { display: none; }` but bootstrap.min.css set `[hidden] { display: none !important; }` so we also need the `!important` here to be able to override the default hidden behavior on the sphinx rendered scikit-learn.org. See: https://github.com/scikit-learn/scikit-learn/issues/21755 */display: inline-block !important;position: relative;}#sk-container-id-2 div.sk-text-repr-fallback {display: none;}</style><div id=\"sk-container-id-2\" class=\"sk-top-container\"><div class=\"sk-text-repr-fallback\"><pre>KMeans(n_clusters=10, n_init=10, random_state=0)</pre><b>In a Jupyter environment, please rerun this cell to show the HTML representation or trust the notebook. <br />On GitHub, the HTML representation is unable to render, please try loading this page with nbviewer.org.</b></div><div class=\"sk-container\" hidden><div class=\"sk-item\"><div class=\"sk-estimator sk-toggleable\"><input class=\"sk-toggleable__control sk-hidden--visually\" id=\"sk-estimator-id-2\" type=\"checkbox\" checked><label for=\"sk-estimator-id-2\" class=\"sk-toggleable__label sk-toggleable__label-arrow\">KMeans</label><div class=\"sk-toggleable__content\"><pre>KMeans(n_clusters=10, n_init=10, random_state=0)</pre></div></div></div></div></div>"
      ],
      "text/plain": [
       "KMeans(n_clusters=10, n_init=10, random_state=0)"
      ]
     },
     "execution_count": 9,
     "metadata": {},
     "output_type": "execute_result"
    }
   ],
   "source": [
    "X = df[['rating', 'rating_top']]\n",
    "\n",
    "km = KMeans(n_clusters=10, n_init = 10, random_state=0)\n",
    "km.fit(X)"
   ]
  },
  {
   "cell_type": "markdown",
   "id": "2966df4d-c514-45ec-a2d7-ea224c9ec1c7",
   "metadata": {},
   "source": [
    "### 1. X = df[['rating', 'rating_top']]: Variabel X yang berisi dua kolom dari DataFrame df, yaitu 'rating' dan 'rating_top'. Ini adalah kolom yang akan digunakan sebagai fitur untuk proses clustering.\n",
    "\n",
    "### 2. km = KMeans(n_clusters=10, n_init=10, random_state=0): digunakan untuk menyimpan objek Kmeans kedalam variabel km.\n",
    "\n",
    "### 3. km.fit(X): digunakan untuk mengajarkan model K-Means kepada data kita yang diwakili oleh variabel X."
   ]
  },
  {
   "cell_type": "code",
   "execution_count": 10,
   "id": "981748fa-695d-4799-b100-eea193bca3d7",
   "metadata": {},
   "outputs": [
    {
     "name": "stdout",
     "output_type": "stream",
     "text": [
      "Silhouette Score: 0.9130753686984197\n",
      "Calinski-Harabasz Score: 114336.395530263\n",
      "Davies-Bouldin Index: 0.37918677547288704\n"
     ]
    }
   ],
   "source": [
    "predicted_labels = km.predict(X)\n",
    "\n",
    "silhouette_avg = silhouette_score(X, predicted_labels)\n",
    "print(f\"Silhouette Score: {silhouette_avg}\")\n",
    "\n",
    "calinski_score = calinski_harabasz_score(X, predicted_labels)\n",
    "print(f\"Calinski-Harabasz Score: {calinski_score}\")\n",
    "\n",
    "davies_bouldin = davies_bouldin_score(X, predicted_labels)\n",
    "print(f\"Davies-Bouldin Index: {davies_bouldin}\")"
   ]
  },
  {
   "cell_type": "markdown",
   "id": "26e717be-f0ff-427c-bf5c-d5d6d6c8d51e",
   "metadata": {},
   "source": [
    "### Kesimpulannya, hasil clustering yang dihasilkan oleh model K-Means pada data yang saya buat sangat baik. Nilai-nilai metrik evaluasi menunjukkan bahwa pengelompokan sangat padat, terpisah, dan dekat satu sama lain. Ini adalah tanda bahwa algoritma K-Means telah berhasil dalam mengelompokkan data menjadi 10 klaster yang relevan."
   ]
  },
  {
   "cell_type": "code",
   "execution_count": 11,
   "id": "d4fffcaf-12fb-4d6d-a105-a8232527b48c",
   "metadata": {},
   "outputs": [
    {
     "name": "stdout",
     "output_type": "stream",
     "text": [
      "Adjusted Rand Index: 0.9580810885815525\n",
      "Normalized Mutual Information: 0.8656926462621117\n",
      "Homogeneity: 0.9831350678776615\n",
      "Completeness: 0.7733147430954642\n"
     ]
    }
   ],
   "source": [
    "true_labels = df['rating_top']\n",
    "\n",
    "ari = adjusted_rand_score(true_labels, predicted_labels)\n",
    "nmi = normalized_mutual_info_score(true_labels, predicted_labels)\n",
    "homogeneity = homogeneity_score(true_labels, predicted_labels)\n",
    "completeness = completeness_score(true_labels, predicted_labels)\n",
    "\n",
    "print(f\"Adjusted Rand Index: {ari}\")\n",
    "print(f\"Normalized Mutual Information: {nmi}\")\n",
    "print(f\"Homogeneity: {homogeneity}\")\n",
    "print(f\"Completeness: {completeness}\")"
   ]
  },
  {
   "cell_type": "markdown",
   "id": "36199ad3-62f8-4da0-9c04-32a3eb714678",
   "metadata": {},
   "source": [
    "### Kesimpulannya, hasil clustering yang di hasilkan dengan model K-Means sangat baik dan sangat sesuai dengan label asli. Nilai-nilai metrik evaluasi yang tinggi menunjukkan bahwa pengelompokan yang dilakukan memiliki tingkat kesesuaian yang tinggi dengan kelas asli dalam data, serta klaster yang sangat homogen dalam hal label. Namun, nilai completeness yang lebih rendah menunjukkan bahwa ada beberapa sampel yang mungkin tidak sepenuhnya sesuai dengan klaster kelas asli."
   ]
  },
  {
   "cell_type": "code",
   "execution_count": 15,
   "id": "c84ef0e6-9a73-4802-b9ee-b494b836c795",
   "metadata": {},
   "outputs": [
    {
     "data": {
      "image/png": "[encoded data removed]",
      "text/plain": [
       "<Figure size 640x480 with 1 Axes>"
      ]
     },
     "metadata": {},
     "output_type": "display_data"
    }
   ],
   "source": [
    "plt.scatter(X['rating'], X['rating_top'], c=km.labels_, cmap='viridis')\n",
    "plt.scatter(km.cluster_centers_[:, 0], km.cluster_centers_[:, 1], s=300, c='red', label='Centroids')\n",
    "plt.title(\"K-Means Clustering\")\n",
    "plt.xlabel(\"Rating\")\n",
    "plt.ylabel(\"Rating Top\")\n",
    "plt.legend()\n",
    "plt.show()"
   ]
  }
 ],
 "metadata": {
  "kernelspec": {
   "display_name": "Python 3 (ipykernel)",
   "language": "python",
   "name": "python3"
  },
  "language_info": {
   "codemirror_mode": {
    "name": "ipython",
    "version": 3
   },
   "file_extension": ".py",
   "mimetype": "text/x-python",
   "name": "python",
   "nbconvert_exporter": "python",
   "pygments_lexer": "ipython3",
   "version": "3.8.10"
  }
 },
 "nbformat": 4,
 "nbformat_minor": 5
}
