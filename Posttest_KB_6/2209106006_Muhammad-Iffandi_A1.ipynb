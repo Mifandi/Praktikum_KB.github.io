{
 "cells": [
  {
   "cell_type": "markdown",
   "id": "8f83b0eb-8eee-4811-a22d-8b62be041cfe",
   "metadata": {},
   "source": [
    "# Nama : Muhammad Iffandi\n",
    "# Nim : 2209106006\n",
    "# Praktikum : Kecerdasan Buatan A1"
   ]
  },
  {
   "cell_type": "code",
   "execution_count": 1,
   "id": "063484b2-f50d-4f19-a27e-7633b05b5eff",
   "metadata": {},
   "outputs": [],
   "source": [
    "import pandas as pd\n",
    "import numpy as np\n",
    "from sklearn.model_selection import train_test_split\n",
    "from sklearn.preprocessing import LabelEncoder, StandardScaler\n",
    "from sklearn.metrics import r2_score, accuracy_score\n",
    "import matplotlib.pyplot as plt\n",
    "import tensorflow as tf\n",
    "from tensorflow import keras\n",
    "from tensorflow.keras import layers"
   ]
  },
  {
   "cell_type": "markdown",
   "id": "fceb22c5-12d3-4cc2-bb85-36e8b30c0f85",
   "metadata": {},
   "source": [
    "## Import Library yang akan digunakan"
   ]
  },
  {
   "cell_type": "code",
   "execution_count": 2,
   "id": "9f5f2172-039f-4b0e-a191-1bf3f9d60bf4",
   "metadata": {},
   "outputs": [
    {
     "data": {
      "text/html": [
       "<div>\n",
       "<style scoped>\n",
       "    .dataframe tbody tr th:only-of-type {\n",
       "        vertical-align: middle;\n",
       "    }\n",
       "\n",
       "    .dataframe tbody tr th {\n",
       "        vertical-align: top;\n",
       "    }\n",
       "\n",
       "    .dataframe thead th {\n",
       "        text-align: right;\n",
       "    }\n",
       "</style>\n",
       "<table border=\"1\" class=\"dataframe\">\n",
       "  <thead>\n",
       "    <tr style=\"text-align: right;\">\n",
       "      <th></th>\n",
       "      <th>Unnamed: 0</th>\n",
       "      <th>slug</th>\n",
       "      <th>playtime</th>\n",
       "      <th>released</th>\n",
       "      <th>rating</th>\n",
       "      <th>rating_top</th>\n",
       "      <th>ratings_count</th>\n",
       "      <th>reviews_text_count</th>\n",
       "      <th>added</th>\n",
       "      <th>metacritic</th>\n",
       "      <th>...</th>\n",
       "      <th>updated</th>\n",
       "      <th>tags</th>\n",
       "      <th>reviews_count</th>\n",
       "      <th>genres</th>\n",
       "      <th>yet</th>\n",
       "      <th>owned</th>\n",
       "      <th>beaten</th>\n",
       "      <th>toplay</th>\n",
       "      <th>dropped</th>\n",
       "      <th>playing</th>\n",
       "    </tr>\n",
       "  </thead>\n",
       "  <tbody>\n",
       "    <tr>\n",
       "      <th>0</th>\n",
       "      <td>0</td>\n",
       "      <td>terraria</td>\n",
       "      <td>12</td>\n",
       "      <td>5/16/2011</td>\n",
       "      <td>4.41</td>\n",
       "      <td>4</td>\n",
       "      <td>1384</td>\n",
       "      <td>6</td>\n",
       "      <td>7304</td>\n",
       "      <td>81.0</td>\n",
       "      <td>...</td>\n",
       "      <td>2020-12-07T19:51:06</td>\n",
       "      <td>Singleplayer, Steam Achievements</td>\n",
       "      <td>1395</td>\n",
       "      <td>Platformer, Indie</td>\n",
       "      <td>237</td>\n",
       "      <td>5518</td>\n",
       "      <td>603</td>\n",
       "      <td>94</td>\n",
       "      <td>729</td>\n",
       "      <td>123</td>\n",
       "    </tr>\n",
       "    <tr>\n",
       "      <th>1</th>\n",
       "      <td>1</td>\n",
       "      <td>lego-lord-of-the-rings</td>\n",
       "      <td>3</td>\n",
       "      <td>9/28/2012</td>\n",
       "      <td>3.40</td>\n",
       "      <td>4</td>\n",
       "      <td>409</td>\n",
       "      <td>1</td>\n",
       "      <td>3640</td>\n",
       "      <td>80.0</td>\n",
       "      <td>...</td>\n",
       "      <td>2019-10-23T14:56:48</td>\n",
       "      <td>Singleplayer, Для одного игрока</td>\n",
       "      <td>410</td>\n",
       "      <td>Casual, Platformer</td>\n",
       "      <td>265</td>\n",
       "      <td>3000</td>\n",
       "      <td>205</td>\n",
       "      <td>29</td>\n",
       "      <td>115</td>\n",
       "      <td>26</td>\n",
       "    </tr>\n",
       "    <tr>\n",
       "      <th>2</th>\n",
       "      <td>2</td>\n",
       "      <td>minecraft</td>\n",
       "      <td>26</td>\n",
       "      <td>5/10/2009</td>\n",
       "      <td>4.41</td>\n",
       "      <td>5</td>\n",
       "      <td>1339</td>\n",
       "      <td>8</td>\n",
       "      <td>3640</td>\n",
       "      <td>83.0</td>\n",
       "      <td>...</td>\n",
       "      <td>2020-09-08T16:50:31</td>\n",
       "      <td>Multiplayer, Sandbox</td>\n",
       "      <td>1359</td>\n",
       "      <td>Action, Arcade</td>\n",
       "      <td>38</td>\n",
       "      <td>2049</td>\n",
       "      <td>689</td>\n",
       "      <td>48</td>\n",
       "      <td>434</td>\n",
       "      <td>382</td>\n",
       "    </tr>\n",
       "    <tr>\n",
       "      <th>3</th>\n",
       "      <td>3</td>\n",
       "      <td>the-binding-of-isaac-rebirth</td>\n",
       "      <td>35</td>\n",
       "      <td>11/4/2014</td>\n",
       "      <td>4.31</td>\n",
       "      <td>5</td>\n",
       "      <td>726</td>\n",
       "      <td>5</td>\n",
       "      <td>3297</td>\n",
       "      <td>86.0</td>\n",
       "      <td>...</td>\n",
       "      <td>2019-12-29T20:04:49</td>\n",
       "      <td>Singleplayer, Для одного игрока</td>\n",
       "      <td>732</td>\n",
       "      <td>Action, RPG</td>\n",
       "      <td>74</td>\n",
       "      <td>2464</td>\n",
       "      <td>380</td>\n",
       "      <td>63</td>\n",
       "      <td>225</td>\n",
       "      <td>91</td>\n",
       "    </tr>\n",
       "    <tr>\n",
       "      <th>4</th>\n",
       "      <td>4</td>\n",
       "      <td>lego-the-hobbit</td>\n",
       "      <td>2</td>\n",
       "      <td>4/8/2014</td>\n",
       "      <td>3.40</td>\n",
       "      <td>4</td>\n",
       "      <td>289</td>\n",
       "      <td>0</td>\n",
       "      <td>3194</td>\n",
       "      <td>70.0</td>\n",
       "      <td>...</td>\n",
       "      <td>2019-10-23T14:56:45</td>\n",
       "      <td>Singleplayer, Для одного игрока</td>\n",
       "      <td>289</td>\n",
       "      <td>Family, Adventure</td>\n",
       "      <td>285</td>\n",
       "      <td>2665</td>\n",
       "      <td>132</td>\n",
       "      <td>24</td>\n",
       "      <td>75</td>\n",
       "      <td>13</td>\n",
       "    </tr>\n",
       "  </tbody>\n",
       "</table>\n",
       "<p>5 rows × 21 columns</p>\n",
       "</div>"
      ],
      "text/plain": [
       "   Unnamed: 0                          slug  playtime   released  rating  \\\n",
       "0           0                      terraria        12  5/16/2011    4.41   \n",
       "1           1        lego-lord-of-the-rings         3  9/28/2012    3.40   \n",
       "2           2                     minecraft        26  5/10/2009    4.41   \n",
       "3           3  the-binding-of-isaac-rebirth        35  11/4/2014    4.31   \n",
       "4           4               lego-the-hobbit         2   4/8/2014    3.40   \n",
       "\n",
       "   rating_top  ratings_count  reviews_text_count  added  metacritic  ...  \\\n",
       "0           4           1384                   6   7304        81.0  ...   \n",
       "1           4            409                   1   3640        80.0  ...   \n",
       "2           5           1339                   8   3640        83.0  ...   \n",
       "3           5            726                   5   3297        86.0  ...   \n",
       "4           4            289                   0   3194        70.0  ...   \n",
       "\n",
       "               updated                              tags reviews_count  \\\n",
       "0  2020-12-07T19:51:06  Singleplayer, Steam Achievements          1395   \n",
       "1  2019-10-23T14:56:48   Singleplayer, Для одного игрока           410   \n",
       "2  2020-09-08T16:50:31              Multiplayer, Sandbox          1359   \n",
       "3  2019-12-29T20:04:49   Singleplayer, Для одного игрока           732   \n",
       "4  2019-10-23T14:56:45   Singleplayer, Для одного игрока           289   \n",
       "\n",
       "               genres  yet  owned  beaten  toplay  dropped  playing  \n",
       "0   Platformer, Indie  237   5518     603      94      729      123  \n",
       "1  Casual, Platformer  265   3000     205      29      115       26  \n",
       "2      Action, Arcade   38   2049     689      48      434      382  \n",
       "3         Action, RPG   74   2464     380      63      225       91  \n",
       "4   Family, Adventure  285   2665     132      24       75       13  \n",
       "\n",
       "[5 rows x 21 columns]"
      ]
     },
     "execution_count": 2,
     "metadata": {},
     "output_type": "execute_result"
    }
   ],
   "source": [
    "df = pd.read_csv('nintendo3ds.csv')\n",
    "df.head()"
   ]
  },
  {
   "cell_type": "markdown",
   "id": "0c810ded-452c-425c-9aa7-029054fc22b2",
   "metadata": {},
   "source": [
    "### Untuk membaca dataset dan menampilkan 5 data pertama dalam dataset"
   ]
  },
  {
   "cell_type": "markdown",
   "id": "a8cdbbf9-2cd0-453c-9051-116a1ec4c6a4",
   "metadata": {},
   "source": [
    "## 1. Split dataset menjadi train dan test"
   ]
  },
  {
   "cell_type": "code",
   "execution_count": 3,
   "id": "8fe79187-2e9f-4f82-a307-9c5290fad618",
   "metadata": {},
   "outputs": [],
   "source": [
    "X = df[['rating_top', 'ratings_count', 'playtime', 'reviews_text_count']]\n",
    "y = df['rating']\n",
    "\n",
    "X_train, X_test, y_train, y_test = train_test_split(X, y, test_size=0.2, random_state=42)"
   ]
  },
  {
   "cell_type": "markdown",
   "id": "0973c6fa-4732-4bb4-b8b7-0348e9d50b0e",
   "metadata": {},
   "source": [
    "### Melakukan split data dengan rasio 80:20"
   ]
  },
  {
   "cell_type": "markdown",
   "id": "a8ac33f5-182e-40a0-a250-d6d66726687a",
   "metadata": {},
   "source": [
    "## 2. Melakukan preprocessing pada dataset"
   ]
  },
  {
   "cell_type": "code",
   "execution_count": 4,
   "id": "d6a947da-d218-4dfb-adaa-fd65bde0211b",
   "metadata": {},
   "outputs": [],
   "source": [
    "scaler = StandardScaler()\n",
    "X_train = scaler.fit_transform(X_train)\n",
    "X_test = scaler.transform(X_test)"
   ]
  },
  {
   "cell_type": "markdown",
   "id": "d441b00d-63e0-4dd5-b367-f60f4932dfe4",
   "metadata": {},
   "source": [
    "### Melakukan preprocessing dengan fungsi StandardScaler pada dataset untuk mengubah skala atau rentang nilai dari fitur-fitur dalam dataset sehingga fitur-fitur tersebut memiliki distribusi yang serupa dan tidak memiliki skala yang berbeda-beda."
   ]
  },
  {
   "cell_type": "markdown",
   "id": "b4002bcf-5ac9-4c94-b813-ca0c2163d886",
   "metadata": {},
   "source": [
    "## 3. Membangun sequential model dan melakukan kompilasi model"
   ]
  },
  {
   "cell_type": "code",
   "execution_count": 5,
   "id": "84b57042-4716-4599-9018-f9b2e5e12b3b",
   "metadata": {},
   "outputs": [],
   "source": [
    "model = keras.Sequential([\n",
    "    layers.Dense(units=32, activation='relu', input_dim=X_train.shape[1]),\n",
    "    layers.Dense(units=16, activation='relu'),\n",
    "    layers.Dense(units=1)\n",
    "])\n",
    "\n",
    "model.compile(optimizer='adam', loss='mean_squared_error', metrics=['mae'])"
   ]
  },
  {
   "cell_type": "markdown",
   "id": "a76a4f2f-fbd6-468e-833d-c3e121226d8f",
   "metadata": {},
   "source": [
    "### Syntax diatas digunakan untuk membuat, mengkonfigurasi, dan mengkompilasi model neural network dengan menggunakan library Keras.\n",
    "\n",
    "### 1. model = keras.Sequential([...]): Ini adalah langkah pertama dalam membuat model neural network.\n",
    "\n",
    "### 2. layers.Dense(units=32, activation='relu', input_dim=X_train.shape[1]): Ini adalah lapisan pertama dalam model.\n",
    "\n",
    "### 3. layers.Dense(units=16, activation='relu'): Ini adalah lapisan kedua dalam model. Lapisan ini memiliki 16 neuron dan menggunakan fungsi aktivasi ReLU.\n",
    "\n",
    "### 4. layers.Dense(units=1): Ini adalah lapisan output, dan karena target yang digunakan adalah rating (variabel kontinu), maka hanya ada satu neuron dalam lapisan output.\n",
    "\n",
    "### 5. model.compile(optimizer='adam', loss='mean_squared_error', metrics=['mae']): Digunakan untuk melakukan kompilasi model yang telah dibuat."
   ]
  },
  {
   "cell_type": "markdown",
   "id": "2a792980-9c43-4278-a59a-50bf2c84af1b",
   "metadata": {},
   "source": [
    "## 4. Melatih model neural network"
   ]
  },
  {
   "cell_type": "code",
   "execution_count": 6,
   "id": "f2b87947-ce7a-4626-8221-f35716320060",
   "metadata": {},
   "outputs": [],
   "source": [
    "history = model.fit(X_train, y_train, epochs=100, batch_size=32, validation_data=(X_test, y_test), verbose=0)"
   ]
  },
  {
   "cell_type": "markdown",
   "id": "1e0c7b79-d268-4614-b316-1e2036bae498",
   "metadata": {},
   "source": [
    "### 1. X_train dan y_train: Data pelatihan yang digunakan untuk melatih model.\n",
    "\n",
    "### 2. epochs=100: Jumlah berapa kali iterasi pelatihan akan dijalankan.\n",
    "\n",
    "### 3. batch_size=32: Jumlah sampel data yang digunakan pada setiap iterasi pelatihan.\n",
    "\n",
    "### 4. validation_data=(X_test, y_test): Data validasi yang digunakan untuk mengukur performa model selama pelatihan."
   ]
  },
  {
   "cell_type": "markdown",
   "id": "ff83757e-52ac-4d12-991d-d3f9576ceb9f",
   "metadata": {},
   "source": [
    "## 5. Evaluasi model menggunakan r2_score"
   ]
  },
  {
   "cell_type": "code",
   "execution_count": 7,
   "id": "a68da783-5126-4563-86b2-be43f25b02c7",
   "metadata": {},
   "outputs": [
    {
     "name": "stdout",
     "output_type": "stream",
     "text": [
      "11/11 [==============================] - 0s 2ms/step\n",
      "R2 Score: 0.9614078453640726\n"
     ]
    }
   ],
   "source": [
    "y_pred = model.predict(X_test)\n",
    "r2 = r2_score(y_test, y_pred)\n",
    "print(f\"R2 Score: {r2}\")"
   ]
  },
  {
   "cell_type": "markdown",
   "id": "236344c9-c9d5-4538-9fdf-e5d7d89c63fd",
   "metadata": {},
   "source": [
    "### model yang saya latih memiliki kemampuan yang sangat baik dalam memprediksi target (rating) berdasarkan data yang digunakan dalam evaluasi."
   ]
  },
  {
   "cell_type": "markdown",
   "id": "80f28fe9-c147-431b-8d8e-d657515109ba",
   "metadata": {},
   "source": [
    "## 6. Plot loss dan error "
   ]
  },
  {
   "cell_type": "code",
   "execution_count": 8,
   "id": "ef2780f2-9ee2-4a8c-940a-727e9de58e1a",
   "metadata": {},
   "outputs": [
    {
     "data": {
      "image/png": "[encoded data removed]",
      "text/plain": [
       "<Figure size 1200x600 with 2 Axes>"
      ]
     },
     "metadata": {},
     "output_type": "display_data"
    }
   ],
   "source": [
    "plt.figure(figsize=(12, 6))\n",
    "plt.subplot(1, 2, 1)\n",
    "plt.plot(history.history['mae'], label='Training MAE')\n",
    "plt.plot(history.history['val_mae'], label='Validation MAE')\n",
    "plt.xlabel('Epochs')\n",
    "plt.ylabel('MAE')\n",
    "plt.legend()\n",
    "\n",
    "plt.subplot(1, 2, 2)\n",
    "plt.plot(history.history['loss'], label='Training Loss')\n",
    "plt.plot(history.history['val_loss'], label='Validation Loss')\n",
    "plt.xlabel('Epochs')\n",
    "plt.ylabel('Loss')\n",
    "plt.legend()\n",
    "\n",
    "plt.show()"
   ]
  }
 ],
 "metadata": {
  "kernelspec": {
   "display_name": "Python 3 (ipykernel)",
   "language": "python",
   "name": "python3"
  },
  "language_info": {
   "codemirror_mode": {
    "name": "ipython",
    "version": 3
   },
   "file_extension": ".py",
   "mimetype": "text/x-python",
   "name": "python",
   "nbconvert_exporter": "python",
   "pygments_lexer": "ipython3",
   "version": "3.8.10"
  }
 },
 "nbformat": 4,
 "nbformat_minor": 5
}
